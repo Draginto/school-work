{
 "cells": [
  {
   "cell_type": "code",
   "execution_count": 4,
   "metadata": {
    "_cell_guid": "b1076dfc-b9ad-4769-8c92-a6c4dae69d19",
    "_uuid": "8f2839f25d086af736a60e9eeb907d3b93b6e0e5"
   },
   "outputs": [
    {
     "name": "stdout",
     "output_type": "stream",
     "text": [
      "['magento2-products-update.csv', '.ipynb_checkpoints', 'kernelcd1cf3070e.ipynb']\n"
     ]
    }
   ],
   "source": [
    "# This Python 3 environment comes with many helpful analytics libraries installed\n",
    "# It is defined by the kaggle/python docker image: https://github.com/kaggle/docker-python\n",
    "# For example, here's several helpful packages to load in \n",
    "\n",
    "import numpy as np # linear algebra\n",
    "import pandas as pd # data processing, CSV file I/O (e.g. pd.read_csv)\n",
    "import re\n",
    "# Input data files are available in the \"../input/\" directory.\n",
    "# For example, running this (by clicking run or pressing Shift+Enter) will list the files in the input directory\n",
    "\n",
    "import os\n",
    "print(os.listdir(\"../newworldhealthdata\"))\n",
    "\n",
    "# Any results you write to the current directory are saved as output."
   ]
  },
  {
   "cell_type": "code",
   "execution_count": 23,
   "metadata": {
    "_cell_guid": "79c7e3d0-c299-4dcb-8224-4455121ee9b0",
    "_uuid": "d629ff2d2480ee46fbb7e2d37f6b5fab8052498a"
   },
   "outputs": [
    {
     "name": "stdout",
     "output_type": "stream",
     "text": [
      "100mg - 30ml (1oz) Select Hemp Oil Drops Natural Flavor CBD\n"
     ]
    },
    {
     "name": "stdin",
     "output_type": "stream",
     "text": [
      "Please enter the expiration date for MM/DD/YY  04/10/19\n"
     ]
    },
    {
     "name": "stderr",
     "output_type": "stream",
     "text": [
      "/anaconda3/lib/python3.6/site-packages/ipykernel_launcher.py:38: SettingWithCopyWarning: \n",
      "A value is trying to be set on a copy of a slice from a DataFrame\n",
      "\n",
      "See the caveats in the documentation: http://pandas.pydata.org/pandas-docs/stable/indexing.html#indexing-view-versus-copy\n"
     ]
    },
    {
     "name": "stdout",
     "output_type": "stream",
     "text": [
      "100mg - 30ml (1oz) Select Hemp Oil Drops Cherry Flavor CBD\n"
     ]
    },
    {
     "name": "stdin",
     "output_type": "stream",
     "text": [
      "Please enter the expiration date for MM/DD/YY  05/11/19\n"
     ]
    },
    {
     "name": "stdout",
     "output_type": "stream",
     "text": [
      "100mg - 30ml (1oz) Select Hemp Oil Drops Mint Flavor CBD\n"
     ]
    },
    {
     "name": "stdin",
     "output_type": "stream",
     "text": [
      "Please enter the expiration date for MM/DD/YY  06/12/19\n"
     ]
    },
    {
     "name": "stdout",
     "output_type": "stream",
     "text": [
      "100mg - 2oz Select Soothing Cream Hemp Oil CBD\n"
     ]
    },
    {
     "name": "stdin",
     "output_type": "stream",
     "text": [
      "Please enter the expiration date for MM/DD/YY  06/05/20\n"
     ]
    },
    {
     "name": "stdout",
     "output_type": "stream",
     "text": [
      "100mg - 1oz Select Harmony Cream Hemp Oil CBD\n"
     ]
    },
    {
     "name": "stdin",
     "output_type": "stream",
     "text": [
      "Please enter the expiration date for MM/DD/YY  06/05/20\n"
     ]
    }
   ],
   "source": [
    "df = pd.read_csv('../newworldhealthdata/magento2productsnwhb.csv', delimiter= ',')\n",
    "\n",
    "# Get the columns needed to edit expiration dates.\n",
    "addattr = df['additional_attributes']\n",
    "product_name = df['name']\n",
    "\n",
    "# Get associated row data.\n",
    "attribute_values = addattr[0]\n",
    "\n",
    "# Find where expr_date\n",
    "m = re.search('expr_date=.{8}', attribute_values)\n",
    "oldDate = m.group(0)\n",
    "\n",
    "# User writes new expiration date to replace old one.\n",
    "def user_date():\n",
    "    getDate = input(\"Please enter the expiration date for MM/DD/YY \")\n",
    "    return getDate\n",
    "\n",
    "# Replace old expiration date with new one.\n",
    "\n",
    "def replace_date():\n",
    "    seperator = ','\n",
    "    splitAttributes = attribute_values.split(sep=seperator)\n",
    "    newDate = user_date()\n",
    "    for val in splitAttributes:\n",
    "        if val == oldDate:\n",
    "            getIndex = splitAttributes.index(val)\n",
    "            # Replace the older date with the new one.\n",
    "            splitAttributes[getIndex] = 'expr_date='+ newDate\n",
    "            complete = seperator.join(splitAttributes)\n",
    "            \n",
    "    return complete\n",
    "\n",
    "# print the name and replace the date\n",
    "def get_name():\n",
    "    for index, val in enumerate(addattr):\n",
    "        print(product_name[index])\n",
    "        addattr[index] = replace_date()\n",
    "\n",
    "get_name()"
   ]
  },
  {
   "cell_type": "code",
   "execution_count": 24,
   "metadata": {},
   "outputs": [],
   "source": [
    "df.to_csv('magentonwhbproducts.csv', index=False, header=True)"
   ]
  },
  {
   "cell_type": "code",
   "execution_count": 25,
   "metadata": {},
   "outputs": [],
   "source": [
    "updatedProducts = pd.read_csv('magentonwhbproducts.csv', delimiter=',')"
   ]
  }
 ],
 "metadata": {
  "kernelspec": {
   "display_name": "Python 3",
   "language": "python",
   "name": "python3"
  },
  "language_info": {
   "codemirror_mode": {
    "name": "ipython",
    "version": 3
   },
   "file_extension": ".py",
   "mimetype": "text/x-python",
   "name": "python",
   "nbconvert_exporter": "python",
   "pygments_lexer": "ipython3",
   "version": "3.6.8"
  }
 },
 "nbformat": 4,
 "nbformat_minor": 2
}
